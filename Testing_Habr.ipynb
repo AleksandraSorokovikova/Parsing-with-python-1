{
 "cells": [
  {
   "cell_type": "markdown",
   "metadata": {},
   "source": [
    "# Тестируем библиотеки на Хабре"
   ]
  },
  {
   "cell_type": "code",
   "execution_count": 1,
   "metadata": {},
   "outputs": [],
   "source": [
    "import sys\n",
    "import time\n",
    "import pandas as pd\n",
    "import matplotlib.pyplot as plt\n",
    "import numpy as np\n",
    "from tqdm import tqdm\n",
    "from memory_profiler import profile\n",
    "from IPython.core.interactiveshell import InteractiveShell\n",
    "InteractiveShell.extensions = [\n",
    "   'autoreload',\n",
    "   'memory_profiler']\n",
    "\n",
    "sys.path.insert(0, 'parsers/bs4')\n",
    "sys.path.insert(0, 'parsers/scrapy')\n",
    "%load_ext memory_profiler"
   ]
  },
  {
   "cell_type": "code",
   "execution_count": 2,
   "metadata": {},
   "outputs": [],
   "source": [
    "# Загружаем файлы\n",
    "html_source_list_bs4 = ['tests/habr/tests_source/test{0}.html'.format(i) for i in range(1, 1396)]\n",
    "html_source_list_scrapy = ['file:/tests/habr/tests_source/test{0}.html'.format(i) for i in range(1, 1396)]\n",
    "\n",
    "html_files = []\n",
    "for html in html_source_list_bs4:\n",
    "    with open(html) as html_file:\n",
    "        html_files.append(html_file.read())\n",
    "        \n",
    "def select_pages(page_limit, pages):\n",
    "    return pages[:page_limit]\n",
    "    "
   ]
  },
  {
   "cell_type": "markdown",
   "metadata": {},
   "source": [
    "### BeautifulSoup"
   ]
  },
  {
   "cell_type": "code",
   "execution_count": 3,
   "metadata": {},
   "outputs": [],
   "source": [
    "from parsers.bs4.habr_parser import parse_habr_bs4\n",
    "from parsers.bs4.parse_bs4 import parse_bs4"
   ]
  },
  {
   "cell_type": "markdown",
   "metadata": {},
   "source": [
    "Запустим парсинг на разном количестве страниц: сначала на 2, потом на 102, потом на 202 и так далее до 1396."
   ]
  },
  {
   "cell_type": "code",
   "execution_count": 4,
   "metadata": {},
   "outputs": [
    {
     "name": "stderr",
     "output_type": "stream",
     "text": [
      "100%|██████████| 14/14 [00:00<00:00, 2894.33it/s]\n"
     ]
    }
   ],
   "source": [
    "bs_time_measure = []\n",
    "for page_limit in tqdm(range(2, 1396, 100)):\n",
    "    pages = select_pages(page_limit, html_files)\n",
    "    habr_data = []\n",
    "    \n",
    "    # замеряем время\n",
    "    s = time.time()\n",
    "    parse_bs4(parse_habr_bs4, pages, habr_data)\n",
    "    t = time.time()\n",
    "    \n",
    "    bs_time_measure.append(t-s)\n",
    "    "
   ]
  },
  {
   "cell_type": "code",
   "execution_count": 5,
   "metadata": {},
   "outputs": [
    {
     "data": {
      "text/html": [
       "<div>\n",
       "<style scoped>\n",
       "    .dataframe tbody tr th:only-of-type {\n",
       "        vertical-align: middle;\n",
       "    }\n",
       "\n",
       "    .dataframe tbody tr th {\n",
       "        vertical-align: top;\n",
       "    }\n",
       "\n",
       "    .dataframe thead th {\n",
       "        text-align: right;\n",
       "    }\n",
       "</style>\n",
       "<table border=\"1\" class=\"dataframe\">\n",
       "  <thead>\n",
       "    <tr style=\"text-align: right;\">\n",
       "      <th></th>\n",
       "      <th>time</th>\n",
       "      <th>tags</th>\n",
       "      <th>habs</th>\n",
       "      <th>saved</th>\n",
       "    </tr>\n",
       "  </thead>\n",
       "  <tbody>\n",
       "    <tr>\n",
       "      <th>0</th>\n",
       "      <td>29  апреля  2019 в 16:43</td>\n",
       "      <td>[c++, clang, llvm, compiler, pvs-studio, open ...</td>\n",
       "      <td>[блог компании pvs-studio, open source, c++, к...</td>\n",
       "      <td>1</td>\n",
       "    </tr>\n",
       "    <tr>\n",
       "      <th>1</th>\n",
       "      <td>29  апреля  2019 в 16:48</td>\n",
       "      <td>[lru, mru, cache]</td>\n",
       "      <td>[высокая производительность, программирование,...</td>\n",
       "      <td>100</td>\n",
       "    </tr>\n",
       "    <tr>\n",
       "      <th>2</th>\n",
       "      <td>29  апреля  2019 в 16:57</td>\n",
       "      <td>[охлаждение цод, цод, чиллерное охлаждение]</td>\n",
       "      <td>[блог компании delta electronics, хостинг, it-...</td>\n",
       "      <td>7</td>\n",
       "    </tr>\n",
       "    <tr>\n",
       "      <th>3</th>\n",
       "      <td>29  апреля  2019 в 16:52</td>\n",
       "      <td>[c++, clang, llvm, compiler, pvs-studio, open ...</td>\n",
       "      <td>[блог компании pvs-studio, open source, c++, к...</td>\n",
       "      <td>14</td>\n",
       "    </tr>\n",
       "    <tr>\n",
       "      <th>4</th>\n",
       "      <td>29  апреля  2019 в 18:55</td>\n",
       "      <td>[фотография, резервное копирование, облако, li...</td>\n",
       "      <td>[резервное копирование, хранение данных, фотот...</td>\n",
       "      <td>158</td>\n",
       "    </tr>\n",
       "    <tr>\n",
       "      <th>...</th>\n",
       "      <td>...</td>\n",
       "      <td>...</td>\n",
       "      <td>...</td>\n",
       "      <td>...</td>\n",
       "    </tr>\n",
       "    <tr>\n",
       "      <th>1297</th>\n",
       "      <td>22  мая  2019 в 18:10</td>\n",
       "      <td>[виджет]</td>\n",
       "      <td>[интерфейсы, разработка под android, дизайн мо...</td>\n",
       "      <td>16</td>\n",
       "    </tr>\n",
       "    <tr>\n",
       "      <th>1298</th>\n",
       "      <td>23  мая  2019 в 17:06</td>\n",
       "      <td>[testing, тестирование, багодельня]</td>\n",
       "      <td>[блог компании авито, хакатоны, тестирование в...</td>\n",
       "      <td>23</td>\n",
       "    </tr>\n",
       "    <tr>\n",
       "      <th>1299</th>\n",
       "      <td>23  мая  2019 в 10:00</td>\n",
       "      <td>[microsoft, windows terminal]</td>\n",
       "      <td>[блог компании microsoft, powershell, разработ...</td>\n",
       "      <td>50</td>\n",
       "    </tr>\n",
       "    <tr>\n",
       "      <th>1300</th>\n",
       "      <td>22  мая  2019 в 19:15</td>\n",
       "      <td>[марс, имя, mars, nasa, 2020]</td>\n",
       "      <td>[научно-популярное, космонавтика, астрономия]</td>\n",
       "      <td>38</td>\n",
       "    </tr>\n",
       "    <tr>\n",
       "      <th>1301</th>\n",
       "      <td>22  мая  2019 в 19:55</td>\n",
       "      <td>[термины, ит, картошка]</td>\n",
       "      <td>[программирование, терминология it]</td>\n",
       "      <td>294</td>\n",
       "    </tr>\n",
       "  </tbody>\n",
       "</table>\n",
       "<p>1302 rows × 4 columns</p>\n",
       "</div>"
      ],
      "text/plain": [
       "                          time  \\\n",
       "0     29  апреля  2019 в 16:43   \n",
       "1     29  апреля  2019 в 16:48   \n",
       "2     29  апреля  2019 в 16:57   \n",
       "3     29  апреля  2019 в 16:52   \n",
       "4     29  апреля  2019 в 18:55   \n",
       "...                        ...   \n",
       "1297     22  мая  2019 в 18:10   \n",
       "1298     23  мая  2019 в 17:06   \n",
       "1299     23  мая  2019 в 10:00   \n",
       "1300     22  мая  2019 в 19:15   \n",
       "1301     22  мая  2019 в 19:55   \n",
       "\n",
       "                                                   tags  \\\n",
       "0     [c++, clang, llvm, compiler, pvs-studio, open ...   \n",
       "1                                     [lru, mru, cache]   \n",
       "2           [охлаждение цод, цод, чиллерное охлаждение]   \n",
       "3     [c++, clang, llvm, compiler, pvs-studio, open ...   \n",
       "4     [фотография, резервное копирование, облако, li...   \n",
       "...                                                 ...   \n",
       "1297                                           [виджет]   \n",
       "1298                [testing, тестирование, багодельня]   \n",
       "1299                      [microsoft, windows terminal]   \n",
       "1300                      [марс, имя, mars, nasa, 2020]   \n",
       "1301                            [термины, ит, картошка]   \n",
       "\n",
       "                                                   habs saved  \n",
       "0     [блог компании pvs-studio, open source, c++, к...     1  \n",
       "1     [высокая производительность, программирование,...   100  \n",
       "2     [блог компании delta electronics, хостинг, it-...     7  \n",
       "3     [блог компании pvs-studio, open source, c++, к...    14  \n",
       "4     [резервное копирование, хранение данных, фотот...   158  \n",
       "...                                                 ...   ...  \n",
       "1297  [интерфейсы, разработка под android, дизайн мо...    16  \n",
       "1298  [блог компании авито, хакатоны, тестирование в...    23  \n",
       "1299  [блог компании microsoft, powershell, разработ...    50  \n",
       "1300      [научно-популярное, космонавтика, астрономия]    38  \n",
       "1301                [программирование, терминология it]   294  \n",
       "\n",
       "[1302 rows x 4 columns]"
      ]
     },
     "execution_count": 5,
     "metadata": {},
     "output_type": "execute_result"
    }
   ],
   "source": [
    "habr_dataFrame = pd.DataFrame([next(i) for i in habr_data])\n",
    "habr_dataFrame"
   ]
  },
  {
   "cell_type": "markdown",
   "metadata": {},
   "source": [
    "### Scrapy"
   ]
  },
  {
   "cell_type": "code",
   "execution_count": 6,
   "metadata": {},
   "outputs": [],
   "source": [
    "from parsers.scrapy.habrSpider import habrSpider\n",
    "from parsers.scrapy.parse_scrapy import parse_scrapy"
   ]
  },
  {
   "cell_type": "markdown",
   "metadata": {},
   "source": [
    "Запустим парсинг на разном количестве страниц: сначала на 2, потом на 102, потом на 202 и так далее до 1396."
   ]
  },
  {
   "cell_type": "code",
   "execution_count": 7,
   "metadata": {},
   "outputs": [
    {
     "name": "stderr",
     "output_type": "stream",
     "text": [
      "100%|██████████| 14/14 [01:26<00:00,  6.19s/it]\n"
     ]
    }
   ],
   "source": [
    "scrapy_time_measure = []\n",
    "for page_limit in tqdm(range(2, 1396, 100)):\n",
    "    pages = select_pages(page_limit, html_source_list_scrapy)\n",
    "    habr_data = []\n",
    "    \n",
    "    # замеряем время\n",
    "    s = time.time()\n",
    "    parse_scrapy(habrSpider, pages, habr_data)\n",
    "    t = time.time()\n",
    "    \n",
    "    scrapy_time_measure.append(t-s)"
   ]
  },
  {
   "cell_type": "code",
   "execution_count": 8,
   "metadata": {},
   "outputs": [
    {
     "data": {
      "text/html": [
       "<div>\n",
       "<style scoped>\n",
       "    .dataframe tbody tr th:only-of-type {\n",
       "        vertical-align: middle;\n",
       "    }\n",
       "\n",
       "    .dataframe tbody tr th {\n",
       "        vertical-align: top;\n",
       "    }\n",
       "\n",
       "    .dataframe thead th {\n",
       "        text-align: right;\n",
       "    }\n",
       "</style>\n",
       "<table border=\"1\" class=\"dataframe\">\n",
       "  <thead>\n",
       "    <tr style=\"text-align: right;\">\n",
       "      <th></th>\n",
       "      <th>time</th>\n",
       "      <th>tags</th>\n",
       "      <th>habs</th>\n",
       "      <th>saved</th>\n",
       "    </tr>\n",
       "  </thead>\n",
       "  <tbody>\n",
       "    <tr>\n",
       "      <th>0</th>\n",
       "      <td>2019-04-29T13:43:52.000Z</td>\n",
       "      <td>[c++, clang, llvm, compiler, pvs-studio, open ...</td>\n",
       "      <td>[open source, c++, компиляторы, devops]</td>\n",
       "      <td>1</td>\n",
       "    </tr>\n",
       "    <tr>\n",
       "      <th>1</th>\n",
       "      <td>2019-04-29T13:48:10.000Z</td>\n",
       "      <td>[lru, mru, cache]</td>\n",
       "      <td>[высокая производительность, программирование,...</td>\n",
       "      <td>100</td>\n",
       "    </tr>\n",
       "    <tr>\n",
       "      <th>2</th>\n",
       "      <td>2019-04-29T13:57:01.000Z</td>\n",
       "      <td>[охлаждение цод, цод, чиллерное охлаждение]</td>\n",
       "      <td>[хостинг, it-инфраструктура, it-компании, инже...</td>\n",
       "      <td>7</td>\n",
       "    </tr>\n",
       "    <tr>\n",
       "      <th>3</th>\n",
       "      <td>2019-04-29T13:52:32.000Z</td>\n",
       "      <td>[c++, clang, llvm, compiler, pvs-studio, open ...</td>\n",
       "      <td>[open source, c++, компиляторы, devops]</td>\n",
       "      <td>14</td>\n",
       "    </tr>\n",
       "    <tr>\n",
       "      <th>4</th>\n",
       "      <td>2019-04-29T15:55:25.000Z</td>\n",
       "      <td>[фотография, резервное копирование, облако, li...</td>\n",
       "      <td>[резервное копирование, хранение данных, фотот...</td>\n",
       "      <td>158</td>\n",
       "    </tr>\n",
       "    <tr>\n",
       "      <th>...</th>\n",
       "      <td>...</td>\n",
       "      <td>...</td>\n",
       "      <td>...</td>\n",
       "      <td>...</td>\n",
       "    </tr>\n",
       "    <tr>\n",
       "      <th>1294</th>\n",
       "      <td>2019-05-22T15:10:16.000Z</td>\n",
       "      <td>[виджет]</td>\n",
       "      <td>[интерфейсы, разработка под android, дизайн мо...</td>\n",
       "      <td>16</td>\n",
       "    </tr>\n",
       "    <tr>\n",
       "      <th>1295</th>\n",
       "      <td>2019-05-23T14:06:18.000Z</td>\n",
       "      <td>[testing, тестирование, багодельня]</td>\n",
       "      <td>[хакатоны, тестирование веб-сервисов, тестиров...</td>\n",
       "      <td>23</td>\n",
       "    </tr>\n",
       "    <tr>\n",
       "      <th>1296</th>\n",
       "      <td>2019-05-23T07:00:03.000Z</td>\n",
       "      <td>[microsoft, windows terminal]</td>\n",
       "      <td>[powershell, разработка под windows]</td>\n",
       "      <td>50</td>\n",
       "    </tr>\n",
       "    <tr>\n",
       "      <th>1297</th>\n",
       "      <td>2019-05-22T16:15:21.000Z</td>\n",
       "      <td>[марс, имя, mars, nasa, 2020]</td>\n",
       "      <td>[научно-популярное, космонавтика, астрономия]</td>\n",
       "      <td>38</td>\n",
       "    </tr>\n",
       "    <tr>\n",
       "      <th>1298</th>\n",
       "      <td>2019-05-22T16:55:01.000Z</td>\n",
       "      <td>[термины, ит, картошка]</td>\n",
       "      <td>[программирование, терминология it]</td>\n",
       "      <td>294</td>\n",
       "    </tr>\n",
       "  </tbody>\n",
       "</table>\n",
       "<p>1299 rows × 4 columns</p>\n",
       "</div>"
      ],
      "text/plain": [
       "                          time  \\\n",
       "0     2019-04-29T13:43:52.000Z   \n",
       "1     2019-04-29T13:48:10.000Z   \n",
       "2     2019-04-29T13:57:01.000Z   \n",
       "3     2019-04-29T13:52:32.000Z   \n",
       "4     2019-04-29T15:55:25.000Z   \n",
       "...                        ...   \n",
       "1294  2019-05-22T15:10:16.000Z   \n",
       "1295  2019-05-23T14:06:18.000Z   \n",
       "1296  2019-05-23T07:00:03.000Z   \n",
       "1297  2019-05-22T16:15:21.000Z   \n",
       "1298  2019-05-22T16:55:01.000Z   \n",
       "\n",
       "                                                   tags  \\\n",
       "0     [c++, clang, llvm, compiler, pvs-studio, open ...   \n",
       "1                                     [lru, mru, cache]   \n",
       "2           [охлаждение цод, цод, чиллерное охлаждение]   \n",
       "3     [c++, clang, llvm, compiler, pvs-studio, open ...   \n",
       "4     [фотография, резервное копирование, облако, li...   \n",
       "...                                                 ...   \n",
       "1294                                           [виджет]   \n",
       "1295                [testing, тестирование, багодельня]   \n",
       "1296                      [microsoft, windows terminal]   \n",
       "1297                      [марс, имя, mars, nasa, 2020]   \n",
       "1298                            [термины, ит, картошка]   \n",
       "\n",
       "                                                   habs saved  \n",
       "0               [open source, c++, компиляторы, devops]     1  \n",
       "1     [высокая производительность, программирование,...   100  \n",
       "2     [хостинг, it-инфраструктура, it-компании, инже...     7  \n",
       "3               [open source, c++, компиляторы, devops]    14  \n",
       "4     [резервное копирование, хранение данных, фотот...   158  \n",
       "...                                                 ...   ...  \n",
       "1294  [интерфейсы, разработка под android, дизайн мо...    16  \n",
       "1295  [хакатоны, тестирование веб-сервисов, тестиров...    23  \n",
       "1296               [powershell, разработка под windows]    50  \n",
       "1297      [научно-популярное, космонавтика, астрономия]    38  \n",
       "1298                [программирование, терминология it]   294  \n",
       "\n",
       "[1299 rows x 4 columns]"
      ]
     },
     "execution_count": 8,
     "metadata": {},
     "output_type": "execute_result"
    }
   ],
   "source": [
    "habr_dataFrame = pd.DataFrame(habr_data)\n",
    "habr_dataFrame"
   ]
  },
  {
   "cell_type": "markdown",
   "metadata": {},
   "source": [
    "## Сравниваем время работы"
   ]
  },
  {
   "cell_type": "markdown",
   "metadata": {},
   "source": [
    "### BeautifulSoup"
   ]
  },
  {
   "cell_type": "code",
   "execution_count": 9,
   "metadata": {},
   "outputs": [
    {
     "data": {
      "image/png": "[encoded data removed]",
      "text/plain": [
       "<Figure size 720x432 with 1 Axes>"
      ]
     },
     "metadata": {
      "needs_background": "light"
     },
     "output_type": "display_data"
    }
   ],
   "source": [
    "plt.figure(figsize=(10, 6))\n",
    "plt.plot(np.arange(2, 1396, 100), bs_time_measure)\n",
    "plt.xlabel(\"Number of pages\")\n",
    "plt.ylabel(\"Second\")\n",
    "plt.show()"
   ]
  },
  {
   "cell_type": "markdown",
   "metadata": {},
   "source": [
    "### Scrapy"
   ]
  },
  {
   "cell_type": "code",
   "execution_count": 10,
   "metadata": {},
   "outputs": [
    {
     "data": {
      "image/png": "[encoded data removed]",
      "text/plain": [
       "<Figure size 720x432 with 1 Axes>"
      ]
     },
     "metadata": {
      "needs_background": "light"
     },
     "output_type": "display_data"
    }
   ],
   "source": [
    "plt.figure(figsize=(10, 6))\n",
    "plt.plot(np.arange(2, 1396, 100), scrapy_time_measure)\n",
    "plt.title(\"Scrapy\")\n",
    "plt.xlabel(\"Number of pages\")\n",
    "plt.ylabel(\"Second\")\n",
    "plt.show()"
   ]
  },
  {
   "cell_type": "markdown",
   "metadata": {},
   "source": [
    "## Сравниваем используемую память"
   ]
  },
  {
   "cell_type": "markdown",
   "metadata": {},
   "source": [
    "### BeautifulSoup"
   ]
  },
  {
   "cell_type": "code",
   "execution_count": 11,
   "metadata": {},
   "outputs": [
    {
     "name": "stdout",
     "output_type": "stream",
     "text": [
      "Overwriting memory/memory_bs4_habr.py\n"
     ]
    }
   ],
   "source": [
    "%%file memory/memory_bs4_habr.py\n",
    "\n",
    "from parsers.bs4.habr_parser import parse_habr_bs4\n",
    "from parsers.bs4.parse_bs4 import parse_bs4\n",
    "\n",
    "html_source_list_bs4 = ['tests/habr/tests_source/test{0}.html'.format(i) for i in range(1, 1396)]\n",
    "html_source_list_scrapy = ['file:/tests/habr/tests_source/test{0}.html'.format(i) for i in range(1, 1396)]\n",
    "\n",
    "html_files = []\n",
    "for html in html_source_list_bs4:\n",
    "    with open(html) as html_file:\n",
    "        html_files.append(html_file.read())\n",
    "\n",
    "def select_pages(page_limit, pages):\n",
    "    return pages[:page_limit]\n",
    "\n",
    "@profile\n",
    "def test_bs4():\n",
    "    for page_limit in range(2, 1396, 100):\n",
    "        pages = select_pages(page_limit, html_files)\n",
    "        habr_data = []\n",
    "\n",
    "        parse_bs4(parse_habr_bs4, pages, habr_data)\n",
    "        \n",
    "test_bs4()"
   ]
  },
  {
   "cell_type": "code",
   "execution_count": 12,
   "metadata": {},
   "outputs": [
    {
     "name": "stdout",
     "output_type": "stream",
     "text": [
      "Filename: memory/memory_bs4_habr.py\r\n",
      "\r\n",
      "Line #    Mem usage    Increment  Occurences   Line Contents\r\n",
      "============================================================\r\n",
      "    16  299.320 MiB  299.320 MiB           1   @profile\r\n",
      "    17                                         def test_bs4():\r\n",
      "    18  300.211 MiB    0.004 MiB          15       for page_limit in range(2, 1396, 100):\r\n",
      "    19  300.211 MiB    0.008 MiB          14           pages = select_pages(page_limit, html_files)\r\n",
      "    20  300.211 MiB    0.000 MiB          14           habr_data = []\r\n",
      "    21                                         \r\n",
      "    22  300.211 MiB    0.879 MiB          14           parse_bs4(parse_habr_bs4, pages, habr_data)\r\n",
      "\r\n",
      "\r\n"
     ]
    }
   ],
   "source": [
    "!python -m memory_profiler memory/memory_bs4_habr.py"
   ]
  },
  {
   "cell_type": "markdown",
   "metadata": {},
   "source": [
    "### Scrapy"
   ]
  },
  {
   "cell_type": "code",
   "execution_count": 13,
   "metadata": {},
   "outputs": [
    {
     "name": "stdout",
     "output_type": "stream",
     "text": [
      "Overwriting memory/memory_scrapy_habr.py\n"
     ]
    }
   ],
   "source": [
    "%%file memory/memory_scrapy_habr.py\n",
    "\n",
    "from parsers.scrapy.habrSpider import habrSpider\n",
    "from parsers.scrapy.parse_scrapy import parse_scrapy\n",
    "\n",
    "html_source_list_bs4 = ['tests/habr/tests_source/test{0}.html'.format(i) for i in range(1, 1396)]\n",
    "html_source_list_scrapy = ['file:/tests/habr/tests_source/test{0}.html'.format(i) for i in range(1, 1396)]\n",
    "\n",
    "html_files = []\n",
    "for html in html_source_list_bs4:\n",
    "    with open(html) as html_file:\n",
    "        html_files.append(html_file.read())\n",
    "\n",
    "def select_pages(page_limit, pages):\n",
    "    return pages[:page_limit]\n",
    "\n",
    "@profile\n",
    "def test_scrapy():\n",
    "    for page_limit in range(2, 1396, 100):\n",
    "        pages = select_pages(page_limit, html_files)\n",
    "        habr_data = []\n",
    "\n",
    "        parse_scrapy(habrSpider, pages, habr_data)\n",
    "        \n",
    "test_scrapy()"
   ]
  },
  {
   "cell_type": "code",
   "execution_count": 14,
   "metadata": {},
   "outputs": [
    {
     "name": "stdout",
     "output_type": "stream",
     "text": [
      "Filename: memory/memory_scrapy_habr.py\r\n",
      "\r\n",
      "Line #    Mem usage    Increment  Occurences   Line Contents\r\n",
      "============================================================\r\n",
      "    16  311.719 MiB  311.719 MiB           1   @profile\r\n",
      "    17                                         def test_scrapy():\r\n",
      "    18  359.633 MiB  -10.227 MiB          15       for page_limit in range(2, 1396, 100):\r\n",
      "    19  356.258 MiB  -10.230 MiB          14           pages = select_pages(page_limit, html_files)\r\n",
      "    20  356.258 MiB  -10.230 MiB          14           habr_data = []\r\n",
      "    21                                         \r\n",
      "    22  359.633 MiB   37.680 MiB          14           parse_scrapy(habrSpider, pages, habr_data)\r\n",
      "\r\n",
      "\r\n"
     ]
    }
   ],
   "source": [
    "!python -m memory_profiler memory/memory_scrapy_habr.py"
   ]
  },
  {
   "cell_type": "code",
   "execution_count": null,
   "metadata": {},
   "outputs": [],
   "source": []
  }
 ],
 "metadata": {
  "kernelspec": {
   "display_name": "Python 3",
   "language": "python",
   "name": "python3"
  },
  "language_info": {
   "codemirror_mode": {
    "name": "ipython",
    "version": 3
   },
   "file_extension": ".py",
   "mimetype": "text/x-python",
   "name": "python",
   "nbconvert_exporter": "python",
   "pygments_lexer": "ipython3",
   "version": "3.7.6"
  }
 },
 "nbformat": 4,
 "nbformat_minor": 4
}

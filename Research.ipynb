{
 "cells": [
  {
   "cell_type": "markdown",
   "metadata": {},
   "source": [
    "# Сравнение различных библиотек для парсинга на Python"
   ]
  },
  {
   "cell_type": "markdown",
   "metadata": {},
   "source": [
    "Цель исследования понять особенности работы трех библиотек для веб-парсинга: `BeautifulSoup` и `Scrapy`. Также будут проведены замеры работы парсеров (время и память), написанных с помощью данных библиотек, на двух разных сайтах: Хабр и Циан, чтобы выяснить, какая библиотека является более мощной."
   ]
  },
  {
   "cell_type": "markdown",
   "metadata": {},
   "source": [
    "## 1. Какие особенности сложны с точки зрения парсинга \n"
   ]
  },
  {
   "cell_type": "markdown",
   "metadata": {},
   "source": [
    "## 2. Ключевые возможности каждой из библиотек (BeautifulSoup, Scrapy"
   ]
  },
  {
   "cell_type": "markdown",
   "metadata": {},
   "source": [
    "### Scrapy\n",
    "1. Работает на разных платформах (Linux, Windows, Mac OS)\n",
    "2. Имеет встроенные селекторы `XPath` и `CSS`\n",
    "3. Одна из самых быстрых библиотек\n",
    "4. Потребляет меньше памяти\n",
    "5. Построен на основе Twisted (асинхронной сетевой структуры)\n",
    "6. Извлекает данные не только с одной страницы, а может \"ползти\" по другим страницам от корневого URL \n",
    "7. Можно определить правила для обхода URL"
   ]
  },
  {
   "cell_type": "markdown",
   "metadata": {},
   "source": [
    "## 3. Изучаем структуру трех сайтов (Хабр, Циан) "
   ]
  },
  {
   "cell_type": "markdown",
   "metadata": {},
   "source": [
    "## 4. Каких возможностей библиотек не хватает"
   ]
  },
  {
   "cell_type": "markdown",
   "metadata": {},
   "source": [
    "### Scrapy\n",
    "1. На динамически загружающиеся данные есть ограничения, которые необходимо обходить, используя другие библиотеки\n",
    "2. Может работать некорректно, если названия классов генерируются автоматически при каждой загрузке с помощью javascript\n",
    "3. Неоднозначная обработка URL при заранее определенных правилах (может неоднократно ходить по URL, которые есть в стоп-листе, при этом не начиная работу с разрешенными URL)"
   ]
  },
  {
   "cell_type": "markdown",
   "metadata": {},
   "source": [
    "## 5. Тестируем библиотеки"
   ]
  },
  {
   "cell_type": "markdown",
   "metadata": {},
   "source": [
    "### Замеряем время работы"
   ]
  },
  {
   "cell_type": "code",
   "execution_count": 1,
   "metadata": {},
   "outputs": [],
   "source": [
    "import sys\n",
    "import time\n",
    "import pandas as pd\n",
    "sys.path.insert(0, 'parsers/bs4')\n",
    "sys.path.insert(0, 'parsers/scrapy')\n",
    "sys.path.insert(0, 'parsers/lxml')"
   ]
  },
  {
   "cell_type": "markdown",
   "metadata": {},
   "source": [
    "#### Хабр"
   ]
  },
  {
   "cell_type": "code",
   "execution_count": 2,
   "metadata": {},
   "outputs": [],
   "source": [
    "# импорт функций для парсинга\n",
    "from parsers.bs4.habr_parser import parse_habr_bs4 as habr_bs4\n",
    "from parsers.scrapy.habr_parser import parse_habr_html as habr_scrapy\n",
    "from parsers.lxml.habr_parser import parse_habr_html as habr_lxml\n",
    "\n",
    "# тесты для парсинга\n",
    "sys.path.insert(0, 'tests/habr/test_source')\n",
    "html_files_path = ['./tests/habr/tests_source/test{0}.html'.format(i) for i in range(0, 48)]\n",
    "html_files = []\n",
    "for html in html_files_path:\n",
    "    with open(html) as html_file:\n",
    "        html_files.append(html_file.read())"
   ]
  },
  {
   "cell_type": "code",
   "execution_count": 3,
   "metadata": {},
   "outputs": [],
   "source": [
    "# bs4\n",
    "for html in html_files:\n",
    "    habr_bs4(html)"
   ]
  },
  {
   "cell_type": "markdown",
   "metadata": {},
   "source": [
    "### Замеряем используемую память"
   ]
  },
  {
   "cell_type": "code",
   "execution_count": null,
   "metadata": {},
   "outputs": [],
   "source": []
  }
 ],
 "metadata": {
  "kernelspec": {
   "display_name": "Python 3",
   "language": "python",
   "name": "python3"
  },
  "language_info": {
   "codemirror_mode": {
    "name": "ipython",
    "version": 3
   },
   "file_extension": ".py",
   "mimetype": "text/x-python",
   "name": "python",
   "nbconvert_exporter": "python",
   "pygments_lexer": "ipython3",
   "version": "3.7.6"
  }
 },
 "nbformat": 4,
 "nbformat_minor": 4
}

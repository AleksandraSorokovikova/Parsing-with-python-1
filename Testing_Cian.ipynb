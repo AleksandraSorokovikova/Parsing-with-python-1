{
 "cells": [
  {
   "cell_type": "markdown",
   "metadata": {},
   "source": [
    "# Тестируем библиотеки на Циане"
   ]
  },
  {
   "cell_type": "code",
   "execution_count": 1,
   "metadata": {},
   "outputs": [],
   "source": [
    "import sys\n",
    "import time\n",
    "import pandas as pd\n",
    "import matplotlib.pyplot as plt\n",
    "import numpy as np\n",
    "from tqdm import tqdm\n",
    "from memory_profiler import profile\n",
    "from IPython.core.interactiveshell import InteractiveShell\n",
    "InteractiveShell.extensions = [\n",
    "   'autoreload',\n",
    "   'memory_profiler']\n",
    "\n",
    "sys.path.insert(0, 'parsers/bs4')\n",
    "sys.path.insert(0, 'parsers/scrapy')\n",
    "%load_ext memory_profiler"
   ]
  },
  {
   "cell_type": "code",
   "execution_count": 2,
   "metadata": {},
   "outputs": [],
   "source": [
    "# Загружаем файлы\n",
    "html_source_list_bs4 = ['tests/cian/test_source/test{0}.html'.format(i) for i in range(1, 51)]\n",
    "html_source_list_scrapy = ['file:/tests/cian/test_source/test{0}.html'.format(i) for i in range(1, 51)]\n",
    "\n",
    "html_files = []\n",
    "for html in html_source_list_bs4:\n",
    "    with open(html) as html_file:\n",
    "        html_files.append(html_file.read())\n",
    "        \n",
    "def select_pages(page_limit, pages):\n",
    "    return pages[:page_limit]\n"
   ]
  },
  {
   "cell_type": "markdown",
   "metadata": {},
   "source": [
    "### BeautifulSoup"
   ]
  },
  {
   "cell_type": "code",
   "execution_count": 3,
   "metadata": {},
   "outputs": [],
   "source": [
    "from parsers.bs4.cian_parser import parse_cian_bs4\n",
    "from parsers.bs4.parse_bs4 import parse_bs4"
   ]
  },
  {
   "cell_type": "code",
   "execution_count": 4,
   "metadata": {},
   "outputs": [
    {
     "name": "stderr",
     "output_type": "stream",
     "text": [
      "100%|██████████| 10/10 [00:00<00:00, 13264.72it/s]\n"
     ]
    }
   ],
   "source": [
    "bs_time_measure = []\n",
    "for page_limit in tqdm(range(1, 51, 5)):\n",
    "    pages = select_pages(page_limit, html_files)\n",
    "    cian_data = []\n",
    "    \n",
    "    # замеряем время\n",
    "    s = time.time()\n",
    "    parse_bs4(parse_cian_bs4, pages, cian_data)\n",
    "    t = time.time()\n",
    "    \n",
    "    bs_time_measure.append(t-s)"
   ]
  },
  {
   "cell_type": "code",
   "execution_count": 5,
   "metadata": {},
   "outputs": [
    {
     "data": {
      "text/html": [
       "<div>\n",
       "<style scoped>\n",
       "    .dataframe tbody tr th:only-of-type {\n",
       "        vertical-align: middle;\n",
       "    }\n",
       "\n",
       "    .dataframe tbody tr th {\n",
       "        vertical-align: top;\n",
       "    }\n",
       "\n",
       "    .dataframe thead th {\n",
       "        text-align: right;\n",
       "    }\n",
       "</style>\n",
       "<table border=\"1\" class=\"dataframe\">\n",
       "  <thead>\n",
       "    <tr style=\"text-align: right;\">\n",
       "      <th></th>\n",
       "      <th>name</th>\n",
       "      <th>price</th>\n",
       "      <th>location</th>\n",
       "    </tr>\n",
       "  </thead>\n",
       "  <tbody>\n",
       "    <tr>\n",
       "      <th>0</th>\n",
       "      <td>1-комн. кв., 41,98 м², 3/10 этаж</td>\n",
       "      <td>14 273 200 ₽</td>\n",
       "      <td>Санкт-Петербург,р-н Московский,Московская заст...</td>\n",
       "    </tr>\n",
       "    <tr>\n",
       "      <th>1</th>\n",
       "      <td>1-комн. кв., 40 м², 22/26 этаж</td>\n",
       "      <td>6 300 000 ₽</td>\n",
       "      <td>Санкт-Петербург,р-н Выборгский,мкр. Парголово,...</td>\n",
       "    </tr>\n",
       "    <tr>\n",
       "      <th>2</th>\n",
       "      <td>1-комн. кв., 48,9 м², 2/9 этаж</td>\n",
       "      <td>13 141 632 ₽</td>\n",
       "      <td>Санкт-Петербург,р-н Красногвардейский,Малая Ох...</td>\n",
       "    </tr>\n",
       "    <tr>\n",
       "      <th>3</th>\n",
       "      <td>1-комн. апарт., 52,77 м², 9/18 этаж</td>\n",
       "      <td>10 627 350 ₽</td>\n",
       "      <td>Санкт-Петербург,р-н Фрунзенский,Волковское,м. ...</td>\n",
       "    </tr>\n",
       "    <tr>\n",
       "      <th>4</th>\n",
       "      <td>1-комн. кв., 36,84 м², 5/12 этаж</td>\n",
       "      <td>8 440 000 ₽</td>\n",
       "      <td>Санкт-Петербург,р-н Выборгский,Сампсониевское,...</td>\n",
       "    </tr>\n",
       "    <tr>\n",
       "      <th>...</th>\n",
       "      <td>...</td>\n",
       "      <td>...</td>\n",
       "      <td>...</td>\n",
       "    </tr>\n",
       "    <tr>\n",
       "      <th>1202</th>\n",
       "      <td>1-комн. кв., 42 м², 5/9 этаж</td>\n",
       "      <td>17 000 ₽/мес.</td>\n",
       "      <td>Омская область,Омск,Советский,мкр. Город Нефтя...</td>\n",
       "    </tr>\n",
       "    <tr>\n",
       "      <th>1203</th>\n",
       "      <td>1-комн. кв., 49 м², 15/16 этаж</td>\n",
       "      <td>21 000 ₽/мес.</td>\n",
       "      <td>Омская область,Омск,Кировский,проспект Комаров...</td>\n",
       "    </tr>\n",
       "    <tr>\n",
       "      <th>1204</th>\n",
       "      <td>1-комн. кв., 30 м², 4/5 этаж</td>\n",
       "      <td>15 000 ₽/мес.</td>\n",
       "      <td>Омская область,Омск,Советский,мкр. Город Нефтя...</td>\n",
       "    </tr>\n",
       "    <tr>\n",
       "      <th>1205</th>\n",
       "      <td>1-комн. кв., 24 м², 5/5 этаж</td>\n",
       "      <td>12 000 ₽/мес.</td>\n",
       "      <td>Омская область,Омск,Советский,мкр. Город Нефтя...</td>\n",
       "    </tr>\n",
       "    <tr>\n",
       "      <th>1206</th>\n",
       "      <td>1-комн. кв., 39 м², 8/9 этаж</td>\n",
       "      <td>11 000 ₽/мес.</td>\n",
       "      <td>Омская область,Омск,Октябрьский,улица Кирова,5</td>\n",
       "    </tr>\n",
       "  </tbody>\n",
       "</table>\n",
       "<p>1207 rows × 3 columns</p>\n",
       "</div>"
      ],
      "text/plain": [
       "                                     name          price  \\\n",
       "0        1-комн. кв., 41,98 м², 3/10 этаж   14 273 200 ₽   \n",
       "1          1-комн. кв., 40 м², 22/26 этаж    6 300 000 ₽   \n",
       "2          1-комн. кв., 48,9 м², 2/9 этаж   13 141 632 ₽   \n",
       "3     1-комн. апарт., 52,77 м², 9/18 этаж   10 627 350 ₽   \n",
       "4        1-комн. кв., 36,84 м², 5/12 этаж    8 440 000 ₽   \n",
       "...                                   ...            ...   \n",
       "1202         1-комн. кв., 42 м², 5/9 этаж  17 000 ₽/мес.   \n",
       "1203       1-комн. кв., 49 м², 15/16 этаж  21 000 ₽/мес.   \n",
       "1204         1-комн. кв., 30 м², 4/5 этаж  15 000 ₽/мес.   \n",
       "1205         1-комн. кв., 24 м², 5/5 этаж  12 000 ₽/мес.   \n",
       "1206         1-комн. кв., 39 м², 8/9 этаж  11 000 ₽/мес.   \n",
       "\n",
       "                                               location  \n",
       "0     Санкт-Петербург,р-н Московский,Московская заст...  \n",
       "1     Санкт-Петербург,р-н Выборгский,мкр. Парголово,...  \n",
       "2     Санкт-Петербург,р-н Красногвардейский,Малая Ох...  \n",
       "3     Санкт-Петербург,р-н Фрунзенский,Волковское,м. ...  \n",
       "4     Санкт-Петербург,р-н Выборгский,Сампсониевское,...  \n",
       "...                                                 ...  \n",
       "1202  Омская область,Омск,Советский,мкр. Город Нефтя...  \n",
       "1203  Омская область,Омск,Кировский,проспект Комаров...  \n",
       "1204  Омская область,Омск,Советский,мкр. Город Нефтя...  \n",
       "1205  Омская область,Омск,Советский,мкр. Город Нефтя...  \n",
       "1206     Омская область,Омск,Октябрьский,улица Кирова,5  \n",
       "\n",
       "[1207 rows x 3 columns]"
      ]
     },
     "execution_count": 5,
     "metadata": {},
     "output_type": "execute_result"
    }
   ],
   "source": [
    "cian_dataFrame = pd.DataFrame()\n",
    "cian_dataFrame = pd.concat([pd.DataFrame(i) for i in cian_data], ignore_index = True)\n",
    "cian_dataFrame"
   ]
  },
  {
   "cell_type": "markdown",
   "metadata": {},
   "source": [
    "### Scrapy"
   ]
  },
  {
   "cell_type": "code",
   "execution_count": 6,
   "metadata": {},
   "outputs": [],
   "source": [
    "from parsers.scrapy.cianSpider import cianSpider\n",
    "from parsers.scrapy.parse_scrapy import parse_scrapy"
   ]
  },
  {
   "cell_type": "code",
   "execution_count": 7,
   "metadata": {},
   "outputs": [
    {
     "name": "stderr",
     "output_type": "stream",
     "text": [
      "100%|██████████| 10/10 [01:05<00:00,  6.52s/it]\n"
     ]
    }
   ],
   "source": [
    "scrapy_time_measure = []\n",
    "for page_limit in tqdm(range(1, 51, 5)):\n",
    "    pages = select_pages(page_limit, html_source_list_scrapy)\n",
    "    cian_data = []\n",
    "    \n",
    "    # замеряем время\n",
    "    s = time.time()\n",
    "    parse_scrapy(cianSpider, pages, cian_data)\n",
    "    t = time.time()\n",
    "    \n",
    "    scrapy_time_measure.append(t-s)"
   ]
  },
  {
   "cell_type": "code",
   "execution_count": 8,
   "metadata": {},
   "outputs": [
    {
     "data": {
      "text/html": [
       "<div>\n",
       "<style scoped>\n",
       "    .dataframe tbody tr th:only-of-type {\n",
       "        vertical-align: middle;\n",
       "    }\n",
       "\n",
       "    .dataframe tbody tr th {\n",
       "        vertical-align: top;\n",
       "    }\n",
       "\n",
       "    .dataframe thead th {\n",
       "        text-align: right;\n",
       "    }\n",
       "</style>\n",
       "<table border=\"1\" class=\"dataframe\">\n",
       "  <thead>\n",
       "    <tr style=\"text-align: right;\">\n",
       "      <th></th>\n",
       "      <th>name</th>\n",
       "      <th>price</th>\n",
       "      <th>location</th>\n",
       "    </tr>\n",
       "  </thead>\n",
       "  <tbody>\n",
       "    <tr>\n",
       "      <th>0</th>\n",
       "      <td>1-комн. кв., 41,98 м², 3/10 этаж</td>\n",
       "      <td>14 273 200 ₽</td>\n",
       "      <td>[Санкт-Петербург, р-н Московский, Московская з...</td>\n",
       "    </tr>\n",
       "    <tr>\n",
       "      <th>1</th>\n",
       "      <td>1-комн. кв., 40 м², 22/26 этаж</td>\n",
       "      <td>6 300 000 ₽</td>\n",
       "      <td>[Санкт-Петербург, р-н Выборгский, мкр. Парголо...</td>\n",
       "    </tr>\n",
       "    <tr>\n",
       "      <th>2</th>\n",
       "      <td>1-комн. кв., 48,9 м², 2/9 этаж</td>\n",
       "      <td>13 141 632 ₽</td>\n",
       "      <td>[Санкт-Петербург, р-н Красногвардейский, Малая...</td>\n",
       "    </tr>\n",
       "    <tr>\n",
       "      <th>3</th>\n",
       "      <td>2-комн. кв., 46,9 м², 7/10 этаж</td>\n",
       "      <td>16 884 000 ₽</td>\n",
       "      <td>[Санкт-Петербург, р-н Московский, Московская з...</td>\n",
       "    </tr>\n",
       "    <tr>\n",
       "      <th>4</th>\n",
       "      <td>3-комн. кв., 68,14 м², 4/10 этаж</td>\n",
       "      <td>23 167 600 ₽</td>\n",
       "      <td>[Санкт-Петербург, р-н Московский, Московская з...</td>\n",
       "    </tr>\n",
       "    <tr>\n",
       "      <th>...</th>\n",
       "      <td>...</td>\n",
       "      <td>...</td>\n",
       "      <td>...</td>\n",
       "    </tr>\n",
       "    <tr>\n",
       "      <th>1202</th>\n",
       "      <td>1-комн. кв., 42 м², 5/9 этаж</td>\n",
       "      <td>17 000 ₽/мес.</td>\n",
       "      <td>[Омская область, Омск, Советский, мкр. Город Н...</td>\n",
       "    </tr>\n",
       "    <tr>\n",
       "      <th>1203</th>\n",
       "      <td>1-комн. кв., 49 м², 15/16 этаж</td>\n",
       "      <td>21 000 ₽/мес.</td>\n",
       "      <td>[Омская область, Омск, Кировский, проспект Ком...</td>\n",
       "    </tr>\n",
       "    <tr>\n",
       "      <th>1204</th>\n",
       "      <td>1-комн. кв., 30 м², 4/5 этаж</td>\n",
       "      <td>15 000 ₽/мес.</td>\n",
       "      <td>[Омская область, Омск, Советский, мкр. Город Н...</td>\n",
       "    </tr>\n",
       "    <tr>\n",
       "      <th>1205</th>\n",
       "      <td>1-комн. кв., 24 м², 5/5 этаж</td>\n",
       "      <td>12 000 ₽/мес.</td>\n",
       "      <td>[Омская область, Омск, Советский, мкр. Город Н...</td>\n",
       "    </tr>\n",
       "    <tr>\n",
       "      <th>1206</th>\n",
       "      <td>1-комн. кв., 39 м², 8/9 этаж</td>\n",
       "      <td>11 000 ₽/мес.</td>\n",
       "      <td>[Омская область, Омск, Октябрьский, улица Киро...</td>\n",
       "    </tr>\n",
       "  </tbody>\n",
       "</table>\n",
       "<p>1207 rows × 3 columns</p>\n",
       "</div>"
      ],
      "text/plain": [
       "                                  name          price  \\\n",
       "0     1-комн. кв., 41,98 м², 3/10 этаж   14 273 200 ₽   \n",
       "1       1-комн. кв., 40 м², 22/26 этаж    6 300 000 ₽   \n",
       "2       1-комн. кв., 48,9 м², 2/9 этаж   13 141 632 ₽   \n",
       "3      2-комн. кв., 46,9 м², 7/10 этаж   16 884 000 ₽   \n",
       "4     3-комн. кв., 68,14 м², 4/10 этаж   23 167 600 ₽   \n",
       "...                                ...            ...   \n",
       "1202      1-комн. кв., 42 м², 5/9 этаж  17 000 ₽/мес.   \n",
       "1203    1-комн. кв., 49 м², 15/16 этаж  21 000 ₽/мес.   \n",
       "1204      1-комн. кв., 30 м², 4/5 этаж  15 000 ₽/мес.   \n",
       "1205      1-комн. кв., 24 м², 5/5 этаж  12 000 ₽/мес.   \n",
       "1206      1-комн. кв., 39 м², 8/9 этаж  11 000 ₽/мес.   \n",
       "\n",
       "                                               location  \n",
       "0     [Санкт-Петербург, р-н Московский, Московская з...  \n",
       "1     [Санкт-Петербург, р-н Выборгский, мкр. Парголо...  \n",
       "2     [Санкт-Петербург, р-н Красногвардейский, Малая...  \n",
       "3     [Санкт-Петербург, р-н Московский, Московская з...  \n",
       "4     [Санкт-Петербург, р-н Московский, Московская з...  \n",
       "...                                                 ...  \n",
       "1202  [Омская область, Омск, Советский, мкр. Город Н...  \n",
       "1203  [Омская область, Омск, Кировский, проспект Ком...  \n",
       "1204  [Омская область, Омск, Советский, мкр. Город Н...  \n",
       "1205  [Омская область, Омск, Советский, мкр. Город Н...  \n",
       "1206  [Омская область, Омск, Октябрьский, улица Киро...  \n",
       "\n",
       "[1207 rows x 3 columns]"
      ]
     },
     "execution_count": 8,
     "metadata": {},
     "output_type": "execute_result"
    }
   ],
   "source": [
    "cian_dataFrame = pd.DataFrame(cian_data)\n",
    "cian_dataFrame"
   ]
  },
  {
   "cell_type": "markdown",
   "metadata": {},
   "source": [
    "## Сравниваем время работы"
   ]
  },
  {
   "cell_type": "markdown",
   "metadata": {},
   "source": [
    "### BeautifulSoup"
   ]
  },
  {
   "cell_type": "code",
   "execution_count": 9,
   "metadata": {},
   "outputs": [
    {
     "data": {
      "image/png": "[encoded data removed]",
      "text/plain": [
       "<Figure size 720x432 with 1 Axes>"
      ]
     },
     "metadata": {
      "needs_background": "light"
     },
     "output_type": "display_data"
    }
   ],
   "source": [
    "plt.figure(figsize=(10, 6))\n",
    "plt.plot(np.arange(1, 51, 5), bs_time_measure)\n",
    "plt.xlabel(\"Number of pages\")\n",
    "plt.ylabel(\"Second\")\n",
    "plt.show()"
   ]
  },
  {
   "cell_type": "markdown",
   "metadata": {},
   "source": [
    "### Scrapy"
   ]
  },
  {
   "cell_type": "code",
   "execution_count": 10,
   "metadata": {},
   "outputs": [
    {
     "data": {
      "image/png": "[encoded data removed]",
      "text/plain": [
       "<Figure size 720x432 with 1 Axes>"
      ]
     },
     "metadata": {
      "needs_background": "light"
     },
     "output_type": "display_data"
    }
   ],
   "source": [
    "plt.figure(figsize=(10, 6))\n",
    "plt.plot(np.arange(1, 51, 5), scrapy_time_measure)\n",
    "plt.title(\"Scrapy\")\n",
    "plt.xlabel(\"Number of pages\")\n",
    "plt.ylabel(\"Second\")\n",
    "plt.show()"
   ]
  },
  {
   "cell_type": "markdown",
   "metadata": {},
   "source": [
    "## Сравниваем используемую память"
   ]
  },
  {
   "cell_type": "markdown",
   "metadata": {},
   "source": [
    "### BeautifulSoup"
   ]
  },
  {
   "cell_type": "code",
   "execution_count": 11,
   "metadata": {},
   "outputs": [
    {
     "name": "stdout",
     "output_type": "stream",
     "text": [
      "Overwriting memory/memory_bs4_cian.py\n"
     ]
    }
   ],
   "source": [
    "%%file memory/memory_bs4_cian.py\n",
    "\n",
    "from parsers.bs4.cian_parser import parse_cian_bs4\n",
    "from parsers.bs4.parse_bs4 import parse_bs4\n",
    "\n",
    "html_source_list_bs4 = ['tests/cian/test_source/test{0}.html'.format(i) for i in range(1, 51)]\n",
    "html_source_list_scrapy = ['file:/tests/cian/test_source/test{0}.html'.format(i) for i in range(1, 51)]\n",
    "\n",
    "html_files = []\n",
    "for html in html_source_list_bs4:\n",
    "    with open(html) as html_file:\n",
    "        html_files.append(html_file.read())\n",
    "        \n",
    "def select_pages(page_limit, pages):\n",
    "    return pages[:page_limit]\n",
    "\n",
    "@profile\n",
    "def test_bs4():\n",
    "    for page_limit in range(1, 51):\n",
    "        pages = select_pages(page_limit, html_files)\n",
    "        habr_data = []\n",
    "\n",
    "        parse_bs4(parse_cian_bs4, pages, habr_data)\n",
    "        \n",
    "test_bs4()"
   ]
  },
  {
   "cell_type": "code",
   "execution_count": 12,
   "metadata": {},
   "outputs": [
    {
     "name": "stdout",
     "output_type": "stream",
     "text": [
      "Filename: memory/memory_bs4_cian.py\r\n",
      "\r\n",
      "Line #    Mem usage    Increment  Occurences   Line Contents\r\n",
      "============================================================\r\n",
      "    16  199.113 MiB  199.113 MiB           1   @profile\r\n",
      "    17                                         def test_bs4():\r\n",
      "    18  199.141 MiB    0.004 MiB          51       for page_limit in range(1, 51):\r\n",
      "    19  199.141 MiB    0.000 MiB          50           pages = select_pages(page_limit, html_files)\r\n",
      "    20  199.141 MiB    0.000 MiB          50           habr_data = []\r\n",
      "    21                                         \r\n",
      "    22  199.141 MiB    0.023 MiB          50           parse_bs4(parse_cian_bs4, pages, habr_data)\r\n",
      "\r\n",
      "\r\n"
     ]
    }
   ],
   "source": [
    "!python -m memory_profiler memory/memory_bs4_cian.py"
   ]
  },
  {
   "cell_type": "markdown",
   "metadata": {},
   "source": [
    "### Scrapy"
   ]
  },
  {
   "cell_type": "code",
   "execution_count": 13,
   "metadata": {},
   "outputs": [
    {
     "name": "stdout",
     "output_type": "stream",
     "text": [
      "Overwriting memory/memory_scrapy_cian.py\n"
     ]
    }
   ],
   "source": [
    "%%file memory/memory_scrapy_cian.py\n",
    "\n",
    "from parsers.scrapy.habrSpider import habrSpider\n",
    "from parsers.scrapy.parse_scrapy import parse_scrapy\n",
    "\n",
    "html_source_list_bs4 = ['tests/cian/test_source/test{0}.html'.format(i) for i in range(1, 51)]\n",
    "html_source_list_scrapy = ['file:/tests/cian/test_source/test{0}.html'.format(i) for i in range(1, 51)]\n",
    "\n",
    "html_files = []\n",
    "for html in html_source_list_bs4:\n",
    "    with open(html) as html_file:\n",
    "        html_files.append(html_file.read())\n",
    "\n",
    "def select_pages(page_limit, pages):\n",
    "    return pages[:page_limit]\n",
    "\n",
    "@profile\n",
    "def test_scrapy():\n",
    "    for page_limit in range(1, 51):\n",
    "        pages = select_pages(page_limit, html_files)\n",
    "        habr_data = []\n",
    "\n",
    "        parse_scrapy(habrSpider, pages, habr_data)\n",
    "        \n",
    "test_scrapy()"
   ]
  },
  {
   "cell_type": "code",
   "execution_count": 14,
   "metadata": {},
   "outputs": [
    {
     "name": "stdout",
     "output_type": "stream",
     "text": [
      "Filename: memory/memory_scrapy_cian.py\r\n",
      "\r\n",
      "Line #    Mem usage    Increment  Occurences   Line Contents\r\n",
      "============================================================\r\n",
      "    16  213.328 MiB  213.328 MiB           1   @profile\r\n",
      "    17                                         def test_scrapy():\r\n",
      "    18  356.910 MiB -3016.105 MiB          51       for page_limit in range(1, 51):\r\n",
      "    19  356.910 MiB -2970.629 MiB          50           pages = select_pages(page_limit, html_files)\r\n",
      "    20  356.910 MiB -2970.629 MiB          50           habr_data = []\r\n",
      "    21                                         \r\n",
      "    22  356.910 MiB -2872.531 MiB          50           parse_scrapy(habrSpider, pages, habr_data)\r\n",
      "\r\n",
      "\r\n"
     ]
    }
   ],
   "source": [
    "!python -m memory_profiler memory/memory_scrapy_cian.py"
   ]
  }
 ],
 "metadata": {
  "kernelspec": {
   "display_name": "Python 3",
   "language": "python",
   "name": "python3"
  },
  "language_info": {
   "codemirror_mode": {
    "name": "ipython",
    "version": 3
   },
   "file_extension": ".py",
   "mimetype": "text/x-python",
   "name": "python",
   "nbconvert_exporter": "python",
   "pygments_lexer": "ipython3",
   "version": "3.7.6"
  }
 },
 "nbformat": 4,
 "nbformat_minor": 4
}
